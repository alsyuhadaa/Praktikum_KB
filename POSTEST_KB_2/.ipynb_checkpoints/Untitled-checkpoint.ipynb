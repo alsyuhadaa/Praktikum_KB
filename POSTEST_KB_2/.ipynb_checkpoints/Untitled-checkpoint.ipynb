{
 "cells": [
  {
   "cell_type": "markdown",
   "id": "d19f056d",
   "metadata": {},
   "source": [
    "<h3> Football Matches of Spanish League </h3>"
   ]
  },
  {
   "cell_type": "markdown",
   "id": "ad3409c4",
   "metadata": {},
   "source": [
    "<h4> Import Pandas </h4>"
   ]
  },
  {
   "cell_type": "code",
   "execution_count": 1,
   "id": "369bc05a",
   "metadata": {},
   "outputs": [],
   "source": [
    "import pandas as pd"
   ]
  },
  {
   "cell_type": "code",
   "execution_count": 2,
   "id": "21e0a09f",
   "metadata": {},
   "outputs": [],
   "source": [
    "df = pd.read_csv(\"FMEL_Dataset.csv\")"
   ]
  },
  {
   "cell_type": "markdown",
   "id": "8156516a",
   "metadata": {},
   "source": [
    "<h4>Membaca Dataset</h4>"
   ]
  },
  {
   "cell_type": "code",
   "execution_count": 3,
   "id": "bbd7adb4",
   "metadata": {},
   "outputs": [
    {
     "data": {
      "text/html": [
       "<div>\n",
       "<style scoped>\n",
       "    .dataframe tbody tr th:only-of-type {\n",
       "        vertical-align: middle;\n",
       "    }\n",
       "\n",
       "    .dataframe tbody tr th {\n",
       "        vertical-align: top;\n",
       "    }\n",
       "\n",
       "    .dataframe thead th {\n",
       "        text-align: right;\n",
       "    }\n",
       "</style>\n",
       "<table border=\"1\" class=\"dataframe\">\n",
       "  <thead>\n",
       "    <tr style=\"text-align: right;\">\n",
       "      <th></th>\n",
       "      <th>id</th>\n",
       "      <th>season</th>\n",
       "      <th>division</th>\n",
       "      <th>round</th>\n",
       "      <th>localTeam</th>\n",
       "      <th>visitorTeam</th>\n",
       "      <th>localGoals</th>\n",
       "      <th>visitorGoals</th>\n",
       "      <th>date</th>\n",
       "      <th>timestamp</th>\n",
       "    </tr>\n",
       "  </thead>\n",
       "  <tbody>\n",
       "    <tr>\n",
       "      <th>0</th>\n",
       "      <td>1</td>\n",
       "      <td>1970-71</td>\n",
       "      <td>1</td>\n",
       "      <td>1</td>\n",
       "      <td>Atletico de Bilbao</td>\n",
       "      <td>Barcelona</td>\n",
       "      <td>1</td>\n",
       "      <td>1</td>\n",
       "      <td>12/09/1970</td>\n",
       "      <td>21938400</td>\n",
       "    </tr>\n",
       "    <tr>\n",
       "      <th>1</th>\n",
       "      <td>2</td>\n",
       "      <td>1970-71</td>\n",
       "      <td>1</td>\n",
       "      <td>1</td>\n",
       "      <td>Las Palmas</td>\n",
       "      <td>Atletico de Madrid</td>\n",
       "      <td>1</td>\n",
       "      <td>1</td>\n",
       "      <td>12/09/1970</td>\n",
       "      <td>21938400</td>\n",
       "    </tr>\n",
       "    <tr>\n",
       "      <th>2</th>\n",
       "      <td>3</td>\n",
       "      <td>1970-71</td>\n",
       "      <td>1</td>\n",
       "      <td>1</td>\n",
       "      <td>Real Madrid</td>\n",
       "      <td>Valencia</td>\n",
       "      <td>2</td>\n",
       "      <td>0</td>\n",
       "      <td>12/09/1970</td>\n",
       "      <td>21938400</td>\n",
       "    </tr>\n",
       "    <tr>\n",
       "      <th>3</th>\n",
       "      <td>4</td>\n",
       "      <td>1970-71</td>\n",
       "      <td>1</td>\n",
       "      <td>1</td>\n",
       "      <td>Celta de Vigo</td>\n",
       "      <td>Sporting de Gijon</td>\n",
       "      <td>2</td>\n",
       "      <td>0</td>\n",
       "      <td>13/09/1970</td>\n",
       "      <td>22024800</td>\n",
       "    </tr>\n",
       "    <tr>\n",
       "      <th>4</th>\n",
       "      <td>5</td>\n",
       "      <td>1970-71</td>\n",
       "      <td>1</td>\n",
       "      <td>1</td>\n",
       "      <td>Elche</td>\n",
       "      <td>Granada</td>\n",
       "      <td>1</td>\n",
       "      <td>1</td>\n",
       "      <td>13/09/1970</td>\n",
       "      <td>22024800</td>\n",
       "    </tr>\n",
       "    <tr>\n",
       "      <th>...</th>\n",
       "      <td>...</td>\n",
       "      <td>...</td>\n",
       "      <td>...</td>\n",
       "      <td>...</td>\n",
       "      <td>...</td>\n",
       "      <td>...</td>\n",
       "      <td>...</td>\n",
       "      <td>...</td>\n",
       "      <td>...</td>\n",
       "      <td>...</td>\n",
       "    </tr>\n",
       "    <tr>\n",
       "      <th>1994</th>\n",
       "      <td>1995</td>\n",
       "      <td>1973-74</td>\n",
       "      <td>1</td>\n",
       "      <td>1</td>\n",
       "      <td>Real Madrid</td>\n",
       "      <td>Castellon</td>\n",
       "      <td>0</td>\n",
       "      <td>0</td>\n",
       "      <td>01/09/1973</td>\n",
       "      <td>115682400</td>\n",
       "    </tr>\n",
       "    <tr>\n",
       "      <th>1995</th>\n",
       "      <td>1996</td>\n",
       "      <td>1973-74</td>\n",
       "      <td>1</td>\n",
       "      <td>1</td>\n",
       "      <td>Valencia</td>\n",
       "      <td>Oviedo</td>\n",
       "      <td>2</td>\n",
       "      <td>1</td>\n",
       "      <td>01/09/1973</td>\n",
       "      <td>115682400</td>\n",
       "    </tr>\n",
       "    <tr>\n",
       "      <th>1996</th>\n",
       "      <td>1997</td>\n",
       "      <td>1973-74</td>\n",
       "      <td>1</td>\n",
       "      <td>1</td>\n",
       "      <td>Celta de Vigo</td>\n",
       "      <td>Atletico de Bilbao</td>\n",
       "      <td>2</td>\n",
       "      <td>1</td>\n",
       "      <td>02/09/1973</td>\n",
       "      <td>115768800</td>\n",
       "    </tr>\n",
       "    <tr>\n",
       "      <th>1997</th>\n",
       "      <td>1998</td>\n",
       "      <td>1973-74</td>\n",
       "      <td>1</td>\n",
       "      <td>1</td>\n",
       "      <td>Elche</td>\n",
       "      <td>Barcelona</td>\n",
       "      <td>1</td>\n",
       "      <td>0</td>\n",
       "      <td>02/09/1973</td>\n",
       "      <td>115768800</td>\n",
       "    </tr>\n",
       "    <tr>\n",
       "      <th>1998</th>\n",
       "      <td>1999</td>\n",
       "      <td>1973-74</td>\n",
       "      <td>1</td>\n",
       "      <td>1</td>\n",
       "      <td>Sporting de Gijon</td>\n",
       "      <td>Atletico de Madrid</td>\n",
       "      <td>0</td>\n",
       "      <td>3</td>\n",
       "      <td>02/09/1973</td>\n",
       "      <td>115768800</td>\n",
       "    </tr>\n",
       "  </tbody>\n",
       "</table>\n",
       "<p>1999 rows × 10 columns</p>\n",
       "</div>"
      ],
      "text/plain": [
       "        id   season  division  round           localTeam         visitorTeam  \\\n",
       "0        1  1970-71         1      1  Atletico de Bilbao           Barcelona   \n",
       "1        2  1970-71         1      1          Las Palmas  Atletico de Madrid   \n",
       "2        3  1970-71         1      1         Real Madrid            Valencia   \n",
       "3        4  1970-71         1      1       Celta de Vigo   Sporting de Gijon   \n",
       "4        5  1970-71         1      1               Elche             Granada   \n",
       "...    ...      ...       ...    ...                 ...                 ...   \n",
       "1994  1995  1973-74         1      1         Real Madrid           Castellon   \n",
       "1995  1996  1973-74         1      1            Valencia              Oviedo   \n",
       "1996  1997  1973-74         1      1       Celta de Vigo  Atletico de Bilbao   \n",
       "1997  1998  1973-74         1      1               Elche           Barcelona   \n",
       "1998  1999  1973-74         1      1   Sporting de Gijon  Atletico de Madrid   \n",
       "\n",
       "      localGoals  visitorGoals        date  timestamp  \n",
       "0              1             1  12/09/1970   21938400  \n",
       "1              1             1  12/09/1970   21938400  \n",
       "2              2             0  12/09/1970   21938400  \n",
       "3              2             0  13/09/1970   22024800  \n",
       "4              1             1  13/09/1970   22024800  \n",
       "...          ...           ...         ...        ...  \n",
       "1994           0             0  01/09/1973  115682400  \n",
       "1995           2             1  01/09/1973  115682400  \n",
       "1996           2             1  02/09/1973  115768800  \n",
       "1997           1             0  02/09/1973  115768800  \n",
       "1998           0             3  02/09/1973  115768800  \n",
       "\n",
       "[1999 rows x 10 columns]"
      ]
     },
     "execution_count": 3,
     "metadata": {},
     "output_type": "execute_result"
    }
   ],
   "source": [
    "df"
   ]
  },
  {
   "cell_type": "markdown",
   "id": "c0bbe662",
   "metadata": {},
   "source": [
    "<h4>Masukkan informasi di atas dalam dictionary dengan key sesuai nama informasinya. Tampilkan isi dari dictionary tersebut sebagus mungkin.</h4>"
   ]
  },
  {
   "cell_type": "code",
   "execution_count": 5,
   "id": "ba9e1428",
   "metadata": {},
   "outputs": [
    {
     "data": {
      "text/plain": [
       "id               int64\n",
       "season          object\n",
       "division         int64\n",
       "round            int64\n",
       "localTeam       object\n",
       "visitorTeam     object\n",
       "localGoals       int64\n",
       "visitorGoals     int64\n",
       "date            object\n",
       "timestamp        int64\n",
       "dtype: object"
      ]
     },
     "execution_count": 5,
     "metadata": {},
     "output_type": "execute_result"
    }
   ],
   "source": [
    "df.dtypes"
   ]
  },
  {
   "cell_type": "code",
   "execution_count": 6,
   "id": "cfdeb617",
   "metadata": {},
   "outputs": [
    {
     "data": {
      "text/plain": [
       "total record                                                            1999\n",
       "Nama Attribute yang ada    Index(['id', 'season', 'division', 'round', 'l...\n",
       "Jumlah Objek                                                               4\n",
       "Jumlah Angka                                                               6\n",
       "Jumlah NULL                                                                0\n",
       "dtype: object"
      ]
     },
     "execution_count": 6,
     "metadata": {},
     "output_type": "execute_result"
    }
   ],
   "source": [
    "totalRecord = len(df)\n",
    "namaAttribute = df.columns\n",
    "jumlahObjek = len(df.select_dtypes(include=['object']).columns)\n",
    "jumlahAngka = len(df.select_dtypes(include=['int64']).columns)\n",
    "jumlahNULL = len(df.columns[df.isna().sum() > 0])\n",
    "\n",
    "dictionary_no1 = {\n",
    "    \"total record\": totalRecord,\n",
    "    \"Nama Attribute yang ada\": namaAttribute,\n",
    "    \"Jumlah Objek\": jumlahObjek,\n",
    "    \"Jumlah Angka\": jumlahAngka,\n",
    "    \"Jumlah NULL\": jumlahNULL,\n",
    "}\n",
    "\n",
    "pd.Series(dictionary_no1)"
   ]
  },
  {
   "cell_type": "markdown",
   "id": "010dd943",
   "metadata": {},
   "source": [
    "<h4>Tampilkan rata-rata, standar deviasi, nilai minimum, nilai maksimum, Q1, Q2, dan Q3 dari attribute bertipe angka.\n",
    "Tampilkan Nilai rata-rata dengan fungsi mean()</h4>"
   ]
  },
  {
   "cell_type": "code",
   "execution_count": 7,
   "id": "d50f671a",
   "metadata": {},
   "outputs": [
    {
     "data": {
      "text/plain": [
       "id              1.000000e+03\n",
       "division        1.570285e+00\n",
       "round           1.834267e+01\n",
       "localGoals      1.519260e+00\n",
       "visitorGoals    6.488244e-01\n",
       "timestamp       6.544456e+07\n",
       "dtype: float64"
      ]
     },
     "execution_count": 7,
     "metadata": {},
     "output_type": "execute_result"
    }
   ],
   "source": [
    "df.select_dtypes(include=['int64']).mean()"
   ]
  },
  {
   "cell_type": "markdown",
   "id": "a6cbb8e1",
   "metadata": {},
   "source": [
    "<h4>Tampilkan Nilai Standar deviasi dengan fungsi std()</h4>"
   ]
  },
  {
   "cell_type": "code",
   "execution_count": 8,
   "id": "3737ba2e",
   "metadata": {},
   "outputs": [
    {
     "data": {
      "text/plain": [
       "id              5.772059e+02\n",
       "division        4.951592e-01\n",
       "round           1.049277e+01\n",
       "localGoals      1.234110e+00\n",
       "visitorGoals    8.033572e-01\n",
       "timestamp       2.668014e+07\n",
       "dtype: float64"
      ]
     },
     "execution_count": 8,
     "metadata": {},
     "output_type": "execute_result"
    }
   ],
   "source": [
    "df.select_dtypes(include=['int64']).std()"
   ]
  },
  {
   "cell_type": "markdown",
   "id": "da6c8306",
   "metadata": {},
   "source": [
    "<h4>Tampilkan Nilai Minimum dengan fungsi min()</h4>"
   ]
  },
  {
   "cell_type": "code",
   "execution_count": 9,
   "id": "8d77f599",
   "metadata": {},
   "outputs": [
    {
     "data": {
      "text/plain": [
       "id                     1\n",
       "division               1\n",
       "round                  1\n",
       "localGoals             0\n",
       "visitorGoals           0\n",
       "timestamp       21333600\n",
       "dtype: int64"
      ]
     },
     "execution_count": 9,
     "metadata": {},
     "output_type": "execute_result"
    }
   ],
   "source": [
    "df.select_dtypes(include=['int64']).min()"
   ]
  },
  {
   "cell_type": "markdown",
   "id": "ff36f153",
   "metadata": {},
   "source": [
    "<h4>Tampilkan Nilai Maksimum dengan fungsi max()</h4>"
   ]
  },
  {
   "cell_type": "code",
   "execution_count": 10,
   "id": "d5e2d7d0",
   "metadata": {},
   "outputs": [
    {
     "data": {
      "text/plain": [
       "id                   1999\n",
       "division                2\n",
       "round                  38\n",
       "localGoals              7\n",
       "visitorGoals            5\n",
       "timestamp       115768800\n",
       "dtype: int64"
      ]
     },
     "execution_count": 10,
     "metadata": {},
     "output_type": "execute_result"
    }
   ],
   "source": [
    "df.select_dtypes(include=['int64']).max()"
   ]
  },
  {
   "cell_type": "markdown",
   "id": "67342a5d",
   "metadata": {},
   "source": [
    "<h4>Tampilkan Nilai Q1, Q2, dan Q3 dengan fungsi quantile()</h4>"
   ]
  },
  {
   "cell_type": "code",
   "execution_count": 11,
   "id": "62f4d3da",
   "metadata": {},
   "outputs": [
    {
     "data": {
      "text/html": [
       "<div>\n",
       "<style scoped>\n",
       "    .dataframe tbody tr th:only-of-type {\n",
       "        vertical-align: middle;\n",
       "    }\n",
       "\n",
       "    .dataframe tbody tr th {\n",
       "        vertical-align: top;\n",
       "    }\n",
       "\n",
       "    .dataframe thead th {\n",
       "        text-align: right;\n",
       "    }\n",
       "</style>\n",
       "<table border=\"1\" class=\"dataframe\">\n",
       "  <thead>\n",
       "    <tr style=\"text-align: right;\">\n",
       "      <th></th>\n",
       "      <th>id</th>\n",
       "      <th>division</th>\n",
       "      <th>round</th>\n",
       "      <th>localGoals</th>\n",
       "      <th>visitorGoals</th>\n",
       "      <th>timestamp</th>\n",
       "    </tr>\n",
       "  </thead>\n",
       "  <tbody>\n",
       "    <tr>\n",
       "      <th>0.25</th>\n",
       "      <td>500.5</td>\n",
       "      <td>1.0</td>\n",
       "      <td>9.0</td>\n",
       "      <td>1.0</td>\n",
       "      <td>0.0</td>\n",
       "      <td>38962800.0</td>\n",
       "    </tr>\n",
       "    <tr>\n",
       "      <th>0.50</th>\n",
       "      <td>1000.0</td>\n",
       "      <td>2.0</td>\n",
       "      <td>18.0</td>\n",
       "      <td>1.0</td>\n",
       "      <td>0.0</td>\n",
       "      <td>66178800.0</td>\n",
       "    </tr>\n",
       "    <tr>\n",
       "      <th>0.75</th>\n",
       "      <td>1499.5</td>\n",
       "      <td>2.0</td>\n",
       "      <td>27.0</td>\n",
       "      <td>2.0</td>\n",
       "      <td>1.0</td>\n",
       "      <td>90370800.0</td>\n",
       "    </tr>\n",
       "  </tbody>\n",
       "</table>\n",
       "</div>"
      ],
      "text/plain": [
       "          id  division  round  localGoals  visitorGoals   timestamp\n",
       "0.25   500.5       1.0    9.0         1.0           0.0  38962800.0\n",
       "0.50  1000.0       2.0   18.0         1.0           0.0  66178800.0\n",
       "0.75  1499.5       2.0   27.0         2.0           1.0  90370800.0"
      ]
     },
     "execution_count": 11,
     "metadata": {},
     "output_type": "execute_result"
    }
   ],
   "source": [
    "df.select_dtypes(include=['int64']).quantile([0.25,0.5,0.75])"
   ]
  },
  {
   "cell_type": "markdown",
   "id": "13ef034e",
   "metadata": {},
   "source": [
    "<h4>Menampilkan semua sekaligus diatas dengan fungsi .describe()</h4>"
   ]
  },
  {
   "cell_type": "code",
   "execution_count": 12,
   "id": "c45a00e4",
   "metadata": {},
   "outputs": [
    {
     "data": {
      "text/html": [
       "<div>\n",
       "<style scoped>\n",
       "    .dataframe tbody tr th:only-of-type {\n",
       "        vertical-align: middle;\n",
       "    }\n",
       "\n",
       "    .dataframe tbody tr th {\n",
       "        vertical-align: top;\n",
       "    }\n",
       "\n",
       "    .dataframe thead th {\n",
       "        text-align: right;\n",
       "    }\n",
       "</style>\n",
       "<table border=\"1\" class=\"dataframe\">\n",
       "  <thead>\n",
       "    <tr style=\"text-align: right;\">\n",
       "      <th></th>\n",
       "      <th>id</th>\n",
       "      <th>division</th>\n",
       "      <th>round</th>\n",
       "      <th>localGoals</th>\n",
       "      <th>visitorGoals</th>\n",
       "      <th>timestamp</th>\n",
       "    </tr>\n",
       "  </thead>\n",
       "  <tbody>\n",
       "    <tr>\n",
       "      <th>count</th>\n",
       "      <td>1999.000000</td>\n",
       "      <td>1999.000000</td>\n",
       "      <td>1999.000000</td>\n",
       "      <td>1999.00000</td>\n",
       "      <td>1999.000000</td>\n",
       "      <td>1.999000e+03</td>\n",
       "    </tr>\n",
       "    <tr>\n",
       "      <th>mean</th>\n",
       "      <td>1000.000000</td>\n",
       "      <td>1.570285</td>\n",
       "      <td>18.342671</td>\n",
       "      <td>1.51926</td>\n",
       "      <td>0.648824</td>\n",
       "      <td>6.544456e+07</td>\n",
       "    </tr>\n",
       "    <tr>\n",
       "      <th>std</th>\n",
       "      <td>577.205914</td>\n",
       "      <td>0.495159</td>\n",
       "      <td>10.492771</td>\n",
       "      <td>1.23411</td>\n",
       "      <td>0.803357</td>\n",
       "      <td>2.668014e+07</td>\n",
       "    </tr>\n",
       "    <tr>\n",
       "      <th>min</th>\n",
       "      <td>1.000000</td>\n",
       "      <td>1.000000</td>\n",
       "      <td>1.000000</td>\n",
       "      <td>0.00000</td>\n",
       "      <td>0.000000</td>\n",
       "      <td>2.133360e+07</td>\n",
       "    </tr>\n",
       "    <tr>\n",
       "      <th>25%</th>\n",
       "      <td>500.500000</td>\n",
       "      <td>1.000000</td>\n",
       "      <td>9.000000</td>\n",
       "      <td>1.00000</td>\n",
       "      <td>0.000000</td>\n",
       "      <td>3.896280e+07</td>\n",
       "    </tr>\n",
       "    <tr>\n",
       "      <th>50%</th>\n",
       "      <td>1000.000000</td>\n",
       "      <td>2.000000</td>\n",
       "      <td>18.000000</td>\n",
       "      <td>1.00000</td>\n",
       "      <td>0.000000</td>\n",
       "      <td>6.617880e+07</td>\n",
       "    </tr>\n",
       "    <tr>\n",
       "      <th>75%</th>\n",
       "      <td>1499.500000</td>\n",
       "      <td>2.000000</td>\n",
       "      <td>27.000000</td>\n",
       "      <td>2.00000</td>\n",
       "      <td>1.000000</td>\n",
       "      <td>9.037080e+07</td>\n",
       "    </tr>\n",
       "    <tr>\n",
       "      <th>max</th>\n",
       "      <td>1999.000000</td>\n",
       "      <td>2.000000</td>\n",
       "      <td>38.000000</td>\n",
       "      <td>7.00000</td>\n",
       "      <td>5.000000</td>\n",
       "      <td>1.157688e+08</td>\n",
       "    </tr>\n",
       "  </tbody>\n",
       "</table>\n",
       "</div>"
      ],
      "text/plain": [
       "                id     division        round  localGoals  visitorGoals  \\\n",
       "count  1999.000000  1999.000000  1999.000000  1999.00000   1999.000000   \n",
       "mean   1000.000000     1.570285    18.342671     1.51926      0.648824   \n",
       "std     577.205914     0.495159    10.492771     1.23411      0.803357   \n",
       "min       1.000000     1.000000     1.000000     0.00000      0.000000   \n",
       "25%     500.500000     1.000000     9.000000     1.00000      0.000000   \n",
       "50%    1000.000000     2.000000    18.000000     1.00000      0.000000   \n",
       "75%    1499.500000     2.000000    27.000000     2.00000      1.000000   \n",
       "max    1999.000000     2.000000    38.000000     7.00000      5.000000   \n",
       "\n",
       "          timestamp  \n",
       "count  1.999000e+03  \n",
       "mean   6.544456e+07  \n",
       "std    2.668014e+07  \n",
       "min    2.133360e+07  \n",
       "25%    3.896280e+07  \n",
       "50%    6.617880e+07  \n",
       "75%    9.037080e+07  \n",
       "max    1.157688e+08  "
      ]
     },
     "execution_count": 12,
     "metadata": {},
     "output_type": "execute_result"
    }
   ],
   "source": [
    "df.describe()"
   ]
  },
  {
   "cell_type": "markdown",
   "id": "f81c5dfd",
   "metadata": {},
   "source": [
    "<h4>Tampilkan nilai korelasi attribute bertipe angka.</h4>"
   ]
  },
  {
   "cell_type": "code",
   "execution_count": 13,
   "id": "461c61eb",
   "metadata": {},
   "outputs": [
    {
     "data": {
      "text/html": [
       "<div>\n",
       "<style scoped>\n",
       "    .dataframe tbody tr th:only-of-type {\n",
       "        vertical-align: middle;\n",
       "    }\n",
       "\n",
       "    .dataframe tbody tr th {\n",
       "        vertical-align: top;\n",
       "    }\n",
       "\n",
       "    .dataframe thead th {\n",
       "        text-align: right;\n",
       "    }\n",
       "</style>\n",
       "<table border=\"1\" class=\"dataframe\">\n",
       "  <thead>\n",
       "    <tr style=\"text-align: right;\">\n",
       "      <th></th>\n",
       "      <th>id</th>\n",
       "      <th>division</th>\n",
       "      <th>round</th>\n",
       "      <th>localGoals</th>\n",
       "      <th>visitorGoals</th>\n",
       "      <th>timestamp</th>\n",
       "    </tr>\n",
       "  </thead>\n",
       "  <tbody>\n",
       "    <tr>\n",
       "      <th>id</th>\n",
       "      <td>1.000000</td>\n",
       "      <td>0.232573</td>\n",
       "      <td>0.216313</td>\n",
       "      <td>-0.002158</td>\n",
       "      <td>0.013945</td>\n",
       "      <td>0.958785</td>\n",
       "    </tr>\n",
       "    <tr>\n",
       "      <th>division</th>\n",
       "      <td>0.232573</td>\n",
       "      <td>1.000000</td>\n",
       "      <td>0.127096</td>\n",
       "      <td>0.000036</td>\n",
       "      <td>-0.033543</td>\n",
       "      <td>-0.038840</td>\n",
       "    </tr>\n",
       "    <tr>\n",
       "      <th>round</th>\n",
       "      <td>0.216313</td>\n",
       "      <td>0.127096</td>\n",
       "      <td>1.000000</td>\n",
       "      <td>0.003336</td>\n",
       "      <td>-0.036127</td>\n",
       "      <td>0.259010</td>\n",
       "    </tr>\n",
       "    <tr>\n",
       "      <th>localGoals</th>\n",
       "      <td>-0.002158</td>\n",
       "      <td>0.000036</td>\n",
       "      <td>0.003336</td>\n",
       "      <td>1.000000</td>\n",
       "      <td>0.062861</td>\n",
       "      <td>-0.003235</td>\n",
       "    </tr>\n",
       "    <tr>\n",
       "      <th>visitorGoals</th>\n",
       "      <td>0.013945</td>\n",
       "      <td>-0.033543</td>\n",
       "      <td>-0.036127</td>\n",
       "      <td>0.062861</td>\n",
       "      <td>1.000000</td>\n",
       "      <td>0.020723</td>\n",
       "    </tr>\n",
       "    <tr>\n",
       "      <th>timestamp</th>\n",
       "      <td>0.958785</td>\n",
       "      <td>-0.038840</td>\n",
       "      <td>0.259010</td>\n",
       "      <td>-0.003235</td>\n",
       "      <td>0.020723</td>\n",
       "      <td>1.000000</td>\n",
       "    </tr>\n",
       "  </tbody>\n",
       "</table>\n",
       "</div>"
      ],
      "text/plain": [
       "                    id  division     round  localGoals  visitorGoals  \\\n",
       "id            1.000000  0.232573  0.216313   -0.002158      0.013945   \n",
       "division      0.232573  1.000000  0.127096    0.000036     -0.033543   \n",
       "round         0.216313  0.127096  1.000000    0.003336     -0.036127   \n",
       "localGoals   -0.002158  0.000036  0.003336    1.000000      0.062861   \n",
       "visitorGoals  0.013945 -0.033543 -0.036127    0.062861      1.000000   \n",
       "timestamp     0.958785 -0.038840  0.259010   -0.003235      0.020723   \n",
       "\n",
       "              timestamp  \n",
       "id             0.958785  \n",
       "division      -0.038840  \n",
       "round          0.259010  \n",
       "localGoals    -0.003235  \n",
       "visitorGoals   0.020723  \n",
       "timestamp      1.000000  "
      ]
     },
     "execution_count": 13,
     "metadata": {},
     "output_type": "execute_result"
    }
   ],
   "source": [
    "df.select_dtypes(include=['int64']).corr()"
   ]
  },
  {
   "cell_type": "markdown",
   "id": "e382f23b",
   "metadata": {},
   "source": [
    "<h4>Rubah nilai salah satu attribute bertipe angka menjadi dari bilangan bulat menjadi bilangan desimal).</h4>"
   ]
  },
  {
   "cell_type": "markdown",
   "id": "822f72fd",
   "metadata": {},
   "source": [
    "<h5>Metode [errors='ignore']</h5>"
   ]
  },
  {
   "cell_type": "code",
   "execution_count": 35,
   "id": "b5e38e53",
   "metadata": {},
   "outputs": [
    {
     "data": {
      "text/plain": [
       "dtype('float64')"
      ]
     },
     "execution_count": 35,
     "metadata": {},
     "output_type": "execute_result"
    }
   ],
   "source": [
    "df[\"localGoals\"] = df[\"localGoals\"].astype('float64', errors='ignore')\n",
    "df[\"localGoals\"].dtypes"
   ]
  },
  {
   "cell_type": "code",
   "execution_count": 36,
   "id": "f233efe9",
   "metadata": {},
   "outputs": [],
   "source": [
    "df[\"round\"] = df[\"round\"].astype('int64', errors='ignore')"
   ]
  },
  {
   "cell_type": "markdown",
   "id": "313c65e7",
   "metadata": {},
   "source": [
    "<h5>Metode float_format</h5>"
   ]
  },
  {
   "cell_type": "code",
   "execution_count": 39,
   "id": "baa63a79",
   "metadata": {},
   "outputs": [
    {
     "data": {
      "text/plain": [
       "0      1.000\n",
       "1      1.000\n",
       "2      2.000\n",
       "3      2.000\n",
       "4      1.000\n",
       "        ... \n",
       "1994   0.000\n",
       "1995   2.000\n",
       "1996   2.000\n",
       "1997   1.000\n",
       "1998   0.000\n",
       "Name: localGoals, Length: 1999, dtype: float64"
      ]
     },
     "execution_count": 39,
     "metadata": {},
     "output_type": "execute_result"
    }
   ],
   "source": [
    "pd.options.display.float_format = '{:.3f}'.format\n",
    "df.localGoals.astype('float64')"
   ]
  },
  {
   "cell_type": "markdown",
   "id": "e2afdacf",
   "metadata": {},
   "source": [
    "<h4>Tampilkan 10 record pertama dari attribute bertipe angka.</h4>"
   ]
  },
  {
   "cell_type": "code",
   "execution_count": 40,
   "id": "849c0b9e",
   "metadata": {},
   "outputs": [
    {
     "data": {
      "text/html": [
       "<div>\n",
       "<style scoped>\n",
       "    .dataframe tbody tr th:only-of-type {\n",
       "        vertical-align: middle;\n",
       "    }\n",
       "\n",
       "    .dataframe tbody tr th {\n",
       "        vertical-align: top;\n",
       "    }\n",
       "\n",
       "    .dataframe thead th {\n",
       "        text-align: right;\n",
       "    }\n",
       "</style>\n",
       "<table border=\"1\" class=\"dataframe\">\n",
       "  <thead>\n",
       "    <tr style=\"text-align: right;\">\n",
       "      <th></th>\n",
       "      <th>id</th>\n",
       "      <th>division</th>\n",
       "      <th>round</th>\n",
       "      <th>visitorGoals</th>\n",
       "      <th>timestamp</th>\n",
       "    </tr>\n",
       "  </thead>\n",
       "  <tbody>\n",
       "    <tr>\n",
       "      <th>0</th>\n",
       "      <td>1</td>\n",
       "      <td>1</td>\n",
       "      <td>1</td>\n",
       "      <td>1</td>\n",
       "      <td>21938400</td>\n",
       "    </tr>\n",
       "    <tr>\n",
       "      <th>1</th>\n",
       "      <td>2</td>\n",
       "      <td>1</td>\n",
       "      <td>1</td>\n",
       "      <td>1</td>\n",
       "      <td>21938400</td>\n",
       "    </tr>\n",
       "    <tr>\n",
       "      <th>2</th>\n",
       "      <td>3</td>\n",
       "      <td>1</td>\n",
       "      <td>1</td>\n",
       "      <td>0</td>\n",
       "      <td>21938400</td>\n",
       "    </tr>\n",
       "    <tr>\n",
       "      <th>3</th>\n",
       "      <td>4</td>\n",
       "      <td>1</td>\n",
       "      <td>1</td>\n",
       "      <td>0</td>\n",
       "      <td>22024800</td>\n",
       "    </tr>\n",
       "    <tr>\n",
       "      <th>4</th>\n",
       "      <td>5</td>\n",
       "      <td>1</td>\n",
       "      <td>1</td>\n",
       "      <td>1</td>\n",
       "      <td>22024800</td>\n",
       "    </tr>\n",
       "    <tr>\n",
       "      <th>5</th>\n",
       "      <td>6</td>\n",
       "      <td>1</td>\n",
       "      <td>1</td>\n",
       "      <td>1</td>\n",
       "      <td>22024800</td>\n",
       "    </tr>\n",
       "    <tr>\n",
       "      <th>6</th>\n",
       "      <td>7</td>\n",
       "      <td>1</td>\n",
       "      <td>1</td>\n",
       "      <td>0</td>\n",
       "      <td>22024800</td>\n",
       "    </tr>\n",
       "    <tr>\n",
       "      <th>7</th>\n",
       "      <td>8</td>\n",
       "      <td>1</td>\n",
       "      <td>1</td>\n",
       "      <td>0</td>\n",
       "      <td>22024800</td>\n",
       "    </tr>\n",
       "    <tr>\n",
       "      <th>8</th>\n",
       "      <td>9</td>\n",
       "      <td>1</td>\n",
       "      <td>2</td>\n",
       "      <td>1</td>\n",
       "      <td>22543200</td>\n",
       "    </tr>\n",
       "    <tr>\n",
       "      <th>9</th>\n",
       "      <td>10</td>\n",
       "      <td>1</td>\n",
       "      <td>2</td>\n",
       "      <td>0</td>\n",
       "      <td>22629600</td>\n",
       "    </tr>\n",
       "  </tbody>\n",
       "</table>\n",
       "</div>"
      ],
      "text/plain": [
       "   id  division  round  visitorGoals  timestamp\n",
       "0   1         1      1             1   21938400\n",
       "1   2         1      1             1   21938400\n",
       "2   3         1      1             0   21938400\n",
       "3   4         1      1             0   22024800\n",
       "4   5         1      1             1   22024800\n",
       "5   6         1      1             1   22024800\n",
       "6   7         1      1             0   22024800\n",
       "7   8         1      1             0   22024800\n",
       "8   9         1      2             1   22543200\n",
       "9  10         1      2             0   22629600"
      ]
     },
     "execution_count": 40,
     "metadata": {},
     "output_type": "execute_result"
    }
   ],
   "source": [
    "df.select_dtypes(include=['int64']).head(10)"
   ]
  },
  {
   "cell_type": "markdown",
   "id": "3b5c79cf",
   "metadata": {},
   "source": [
    "<h4>Simpan dataset dengan attribute bertipe angka ke dalam file CSV.</h4>"
   ]
  },
  {
   "cell_type": "code",
   "execution_count": 41,
   "id": "07d706d6",
   "metadata": {},
   "outputs": [],
   "source": [
    "df.select_dtypes(include=['int64']).to_csv(\"Atribut_Bertipe_Angka_FMEL.csv\", index=False)"
   ]
  }
 ],
 "metadata": {
  "kernelspec": {
   "display_name": "hada_062",
   "language": "python",
   "name": "hada_062"
  },
  "language_info": {
   "codemirror_mode": {
    "name": "ipython",
    "version": 3
   },
   "file_extension": ".py",
   "mimetype": "text/x-python",
   "name": "python",
   "nbconvert_exporter": "python",
   "pygments_lexer": "ipython3",
   "version": "3.10.7"
  }
 },
 "nbformat": 4,
 "nbformat_minor": 5
}

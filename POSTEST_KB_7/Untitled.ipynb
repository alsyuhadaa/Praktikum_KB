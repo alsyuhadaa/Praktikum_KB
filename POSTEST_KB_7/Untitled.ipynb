{
 "cells": [
  {
   "cell_type": "markdown",
   "id": "ab67eeca",
   "metadata": {},
   "source": [
    "# POSTTEST 7"
   ]
  },
  {
   "cell_type": "markdown",
   "id": "4b6d1835",
   "metadata": {},
   "source": [
    "## PENGENALAN TENSORFLOW"
   ]
  },
  {
   "cell_type": "markdown",
   "id": "06d74a05",
   "metadata": {},
   "source": [
    "### Import modul yang di gunakan"
   ]
  },
  {
   "cell_type": "code",
   "execution_count": 1,
   "id": "dcabde94",
   "metadata": {},
   "outputs": [],
   "source": [
    "import numpy as np\n",
    "import tensorflow as tf"
   ]
  },
  {
   "cell_type": "markdown",
   "id": "67833efe",
   "metadata": {},
   "source": [
    "### Membuat random tensor dengan shape 5:5"
   ]
  },
  {
   "cell_type": "code",
   "execution_count": 2,
   "id": "1574fe38",
   "metadata": {},
   "outputs": [
    {
     "data": {
      "text/plain": [
       "<tf.Tensor: shape=(5, 5), dtype=float32, numpy=\n",
       "array([[-0.8113182 ,  1.4845988 ,  0.06532937, -2.4427042 ,  0.0992484 ],\n",
       "       [ 0.5912243 ,  0.59282297, -2.1229296 , -0.72289723, -0.05627038],\n",
       "       [ 0.6435448 , -0.26432407,  1.8566332 ,  0.5678417 , -0.3828359 ],\n",
       "       [-1.4853433 ,  1.2617711 , -0.02530608, -0.2646297 ,  1.5328138 ],\n",
       "       [-1.7429771 , -0.43789294, -0.56601   ,  0.32066926,  1.132831  ]],\n",
       "      dtype=float32)>"
      ]
     },
     "execution_count": 2,
     "metadata": {},
     "output_type": "execute_result"
    }
   ],
   "source": [
    "random_tensor = tf.random.normal([5,5], mean=0, stddev=1, seed=1)\n",
    "random_tensor"
   ]
  },
  {
   "cell_type": "markdown",
   "id": "30f53853",
   "metadata": {},
   "source": [
    "### Membuat prime tensor list bilangan prima dengan shape 5:5"
   ]
  },
  {
   "cell_type": "code",
   "execution_count": 3,
   "id": "ba4b3b41",
   "metadata": {},
   "outputs": [
    {
     "data": {
      "text/plain": [
       "<tf.Tensor: shape=(5, 5), dtype=float32, numpy=\n",
       "array([[  2.,   3.,   5.,   7.,  11.],\n",
       "       [ 13.,  17.,  19.,  23.,  29.],\n",
       "       [ 31.,  37.,  41.,  43.,  47.],\n",
       "       [ 53.,  59.,  61.,  71.,  73.],\n",
       "       [ 79.,  83.,  89.,  97., 101.]], dtype=float32)>"
      ]
     },
     "execution_count": 3,
     "metadata": {},
     "output_type": "execute_result"
    }
   ],
   "source": [
    "prime_tensor = tf.constant([2, 3, 5, 7, 11, 13, 17, 19, 23, 29, 31, 37, 41, 43, 47, 53, 59, 61, 71, 73, 79, 83, 89, 97, 101], \n",
    "                           shape=[5, 5], dtype=tf.float32)\n",
    "prime_tensor"
   ]
  },
  {
   "cell_type": "markdown",
   "id": "e456b1b4",
   "metadata": {},
   "source": [
    "### Perhitungan aritmatika add (pertambahan)"
   ]
  },
  {
   "cell_type": "code",
   "execution_count": 4,
   "id": "9c711b0b",
   "metadata": {},
   "outputs": [
    {
     "name": "stdout",
     "output_type": "stream",
     "text": [
      "tf.Tensor(\n",
      "[[  1.1886818   4.4845986   5.0653296   4.557296   11.099248 ]\n",
      " [ 13.591225   17.592823   16.877071   22.277103   28.94373  ]\n",
      " [ 31.643545   36.735676   42.856632   43.56784    46.617165 ]\n",
      " [ 51.514656   60.261772   60.974693   70.73537    74.532814 ]\n",
      " [ 77.25702    82.5621     88.43399    97.32067   102.13283  ]], shape=(5, 5), dtype=float32)\n"
     ]
    }
   ],
   "source": [
    "print(tf.add(random_tensor, prime_tensor))"
   ]
  },
  {
   "cell_type": "markdown",
   "id": "9ec31750",
   "metadata": {},
   "source": [
    "### Perhitungan aritmatika multiply (perkalian)"
   ]
  },
  {
   "cell_type": "code",
   "execution_count": 5,
   "id": "e2064df4",
   "metadata": {},
   "outputs": [
    {
     "name": "stdout",
     "output_type": "stream",
     "text": [
      "tf.Tensor(\n",
      "[[  -1.6226364     4.4537964     0.32664686  -17.09893       1.0917324 ]\n",
      " [   7.685916     10.077991    -40.335663    -16.626637     -1.6318411 ]\n",
      " [  19.949888     -9.77999      76.12196      24.417194    -17.993286  ]\n",
      " [ -78.7232       74.444496     -1.5436709   -18.788708    111.89541   ]\n",
      " [-137.69519     -36.345116    -50.37489      31.10492     114.41593   ]], shape=(5, 5), dtype=float32)\n"
     ]
    }
   ],
   "source": [
    "print(tf.multiply(random_tensor, prime_tensor))"
   ]
  },
  {
   "cell_type": "markdown",
   "id": "0b240ae1",
   "metadata": {},
   "source": [
    "### Perhitungan aritmatika pow (pangkat)"
   ]
  },
  {
   "cell_type": "code",
   "execution_count": 6,
   "id": "5759bab8",
   "metadata": {},
   "outputs": [
    {
     "name": "stdout",
     "output_type": "stream",
     "text": [
      "tf.Tensor(\n",
      "[[ 6.58237278e-01  3.27210546e+00  1.18998764e-06 -5.18914917e+02\n",
      "   9.20362137e-12]\n",
      " [ 1.07839960e-03  1.37951167e-04 -1.62845650e+06 -5.73800469e-04\n",
      "  -5.72948387e-37]\n",
      " [ 1.16397109e-06 -4.15966456e-22  1.04176673e+11  2.70254808e-11\n",
      "  -2.52112615e-20]\n",
      " [-1.27886054e+09  9.07514625e+05 -0.00000000e+00 -0.00000000e+00\n",
      "   3.47317018e+13]\n",
      " [-1.15356923e+19 -1.71214119e-30 -1.00310215e-22  0.00000000e+00\n",
      "   2.95581156e+05]], shape=(5, 5), dtype=float32)\n"
     ]
    }
   ],
   "source": [
    "print(tf.pow(random_tensor, prime_tensor))"
   ]
  },
  {
   "cell_type": "markdown",
   "id": "40b33e82",
   "metadata": {},
   "source": [
    "### Perhitungan aritmatika divide (pembagian)"
   ]
  },
  {
   "cell_type": "code",
   "execution_count": 7,
   "id": "e2768b5a",
   "metadata": {},
   "outputs": [
    {
     "name": "stdout",
     "output_type": "stream",
     "text": [
      "tf.Tensor(\n",
      "[[-4.0565911e-01  4.9486625e-01  1.3065875e-02 -3.4895775e-01\n",
      "   9.0225823e-03]\n",
      " [ 4.5478795e-02  3.4871940e-02 -1.1173314e-01 -3.1430315e-02\n",
      "  -1.9403580e-03]\n",
      " [ 2.0759510e-02 -7.1438937e-03  4.5283735e-02  1.3205621e-02\n",
      "  -8.1454450e-03]\n",
      " [-2.8025346e-02  2.1385951e-02 -4.1485377e-04 -3.7271788e-03\n",
      "   2.0997450e-02]\n",
      " [-2.2063002e-02 -5.2758185e-03 -6.3596629e-03  3.3058687e-03\n",
      "   1.1216149e-02]], shape=(5, 5), dtype=float32)\n"
     ]
    }
   ],
   "source": [
    "print(tf.divide(random_tensor, prime_tensor))"
   ]
  },
  {
   "cell_type": "markdown",
   "id": "e5fa7465",
   "metadata": {},
   "source": [
    "### Perhitungan aritmatika math.log (logaritma)"
   ]
  },
  {
   "cell_type": "code",
   "execution_count": 8,
   "id": "2a41b55a",
   "metadata": {},
   "outputs": [
    {
     "name": "stdout",
     "output_type": "stream",
     "text": [
      "tf.Tensor(\n",
      "[[        nan  0.39514455 -2.7283134          nan -2.3101294 ]\n",
      " [-0.5255598  -0.52285945         nan         nan         nan]\n",
      " [-0.44076362         nan  0.61876476 -0.5659126          nan]\n",
      " [        nan  0.23251635         nan         nan  0.42710513]\n",
      " [        nan         nan         nan -1.1373451   0.12471979]], shape=(5, 5), dtype=float32)\n"
     ]
    }
   ],
   "source": [
    "print(tf.math.log(random_tensor, prime_tensor))"
   ]
  },
  {
   "cell_type": "markdown",
   "id": "045d37e3",
   "metadata": {},
   "source": [
    "### Nilai maximal dari random_tensor"
   ]
  },
  {
   "cell_type": "code",
   "execution_count": 9,
   "id": "4e464813",
   "metadata": {},
   "outputs": [
    {
     "name": "stdout",
     "output_type": "stream",
     "text": [
      "input random tensor: [[-0.13041711 -1.0677949  -1.5859151  -0.20250545  0.25251657]\n",
      " [ 0.5891704  -0.5487753  -1.7072061  -1.0108198  -1.1962363 ]\n",
      " [-0.91409767 -1.9312154  -0.1816275   0.08513658  1.1574897 ]\n",
      " [-0.4693956  -1.3000611   1.0668705  -0.8059571  -0.13516255]\n",
      " [ 0.9426861  -0.1365208   1.3633711   0.9560936   0.5000218 ]]\n",
      "maximum value berdasarkan kolom: [4 4 4 4 2]\n",
      "maximum value berdasarkan baris: [4 0 4 2 2]\n"
     ]
    }
   ],
   "source": [
    "argmax_random = tf.random.normal([5,5])\n",
    "print(\"input random tensor:\",argmax_random.numpy())\n",
    "max_random_1 = tf.argmax(argmax_random, axis = 0)\n",
    "max_random_2 = tf.argmax(argmax_random, axis = 1)\n",
    "print(\"maximum value berdasarkan kolom:\",max_random_1.numpy())\n",
    "print(\"maximum value berdasarkan baris:\",max_random_2.numpy())"
   ]
  },
  {
   "cell_type": "markdown",
   "id": "6cf4f8ce",
   "metadata": {},
   "source": [
    "### Nilai minimal dari random_tensor"
   ]
  },
  {
   "cell_type": "code",
   "execution_count": 10,
   "id": "2f641dfa",
   "metadata": {},
   "outputs": [
    {
     "name": "stdout",
     "output_type": "stream",
     "text": [
      "input random tensor: [[-1.6726393   0.6478954   0.7152158  -0.03480389  1.4978822 ]\n",
      " [-0.50219864 -0.54301304 -2.1726413   0.36146864  0.05848025]\n",
      " [ 0.1433409   0.06515413  0.50123906 -1.0128973  -0.3284336 ]\n",
      " [-0.05627987  1.50953    -0.04595404  0.6787476   0.9374691 ]\n",
      " [ 1.3362968  -2.3690283   0.3133478  -0.8279585   0.572408  ]]\n",
      "minimum value berdasarkan kolom: [0 4 1 2 2]\n",
      "minimum value berdasarkan baris: [0 2 3 0 1]\n"
     ]
    }
   ],
   "source": [
    "argmin_random = tf.random.normal([5,5])\n",
    "print(\"input random tensor:\",argmin_random.numpy())\n",
    "min_random_1 = tf.argmin(argmin_random, axis = 0)\n",
    "min_random_2 = tf.argmin(argmin_random, axis = 1)\n",
    "print(\"minimum value berdasarkan kolom:\",min_random_1.numpy())\n",
    "print(\"minimum value berdasarkan baris:\",min_random_2.numpy())"
   ]
  },
  {
   "cell_type": "markdown",
   "id": "9ca7a30a",
   "metadata": {},
   "source": [
    "### Concatenation\n",
    "### Penggabungan variable random_tensor & prime_tensor"
   ]
  },
  {
   "cell_type": "code",
   "execution_count": 11,
   "id": "307d9c10",
   "metadata": {},
   "outputs": [
    {
     "name": "stdout",
     "output_type": "stream",
     "text": [
      "size original data: (5, 5) (5, 5)\n",
      "size concatenated data: (10, 5)\n"
     ]
    }
   ],
   "source": [
    "random_tensor = tf.random.normal([5,5], mean=0, stddev=1, seed=1)\n",
    "prime_tensor = tf.constant([2, 3, 5, 7, 11, 13, 17, 19, 23, 29, 31, 37, 41, 43, 47, 53, 59, 61, 71, 73, 79, 83, 89, 97, 101], \n",
    "                           shape=[5, 5], dtype=tf.float32)\n",
    "print(\"size original data:\",random_tensor.shape,prime_tensor.shape)\n",
    "concated_tensor = tf.concat([random_tensor,prime_tensor],axis=0)\n",
    "print(\"size concatenated data:\",concated_tensor.shape)"
   ]
  },
  {
   "cell_type": "markdown",
   "id": "d2e75231",
   "metadata": {},
   "source": [
    "### Sorting descending variable random_tensor & prime_tensor"
   ]
  },
  {
   "cell_type": "code",
   "execution_count": 12,
   "id": "3c6397e6",
   "metadata": {},
   "outputs": [
    {
     "name": "stdout",
     "output_type": "stream",
     "text": [
      "input random tensor: [[-0.28433853  0.8922832   0.8983451   0.7163981   0.34969485]\n",
      " [-0.37960768  0.01531979  0.27423722 -2.214901   -0.08514621]\n",
      " [ 1.0113182   0.6616626   1.383323   -0.40465203  0.86142987]\n",
      " [-0.12589967 -1.418615    2.0295074   0.15304402  0.13658497]\n",
      " [-0.49787143  0.38847125 -0.4244715   0.46214256 -0.5444318 ]]\n",
      "input prime tensor: [[  2.   3.   5.   7.  11.]\n",
      " [ 13.  17.  19.  23.  29.]\n",
      " [ 31.  37.  41.  43.  47.]\n",
      " [ 53.  59.  61.  71.  73.]\n",
      " [ 79.  83.  89.  97. 101.]]\n",
      "random tensor sorted dengan descending order: [[ 0.8983451   0.8922832   0.7163981   0.34969485 -0.28433853]\n",
      " [ 0.27423722  0.01531979 -0.08514621 -0.37960768 -2.214901  ]\n",
      " [ 1.383323    1.0113182   0.86142987  0.6616626  -0.40465203]\n",
      " [ 2.0295074   0.15304402  0.13658497 -0.12589967 -1.418615  ]\n",
      " [ 0.46214256  0.38847125 -0.4244715  -0.49787143 -0.5444318 ]]\n",
      "prime tensor sorted dengan descending order: [[ 11.   7.   5.   3.   2.]\n",
      " [ 29.  23.  19.  17.  13.]\n",
      " [ 47.  43.  41.  37.  31.]\n",
      " [ 73.  71.  61.  59.  53.]\n",
      " [101.  97.  89.  83.  79.]]\n"
     ]
    }
   ],
   "source": [
    "random_tensor = tf.random.normal([5,5], mean=0, stddev=1, seed=1)\n",
    "print(\"input random tensor:\",random_tensor.numpy())\n",
    "prime_tensor = tf.constant([2, 3, 5, 7, 11, 13, 17, 19, 23, 29, 31, 37, 41, 43, 47, 53, 59, 61, 71, 73, 79, 83, 89, 97, 101], \n",
    "                           shape=[5, 5], dtype=tf.float32)\n",
    "print(\"input prime tensor:\",prime_tensor.numpy())\n",
    "sorted_random = tf.sort(random_tensor, direction = \"DESCENDING\")\n",
    "print(\"random tensor sorted dengan descending order:\",sorted_random.numpy())\n",
    "sorted_prime = tf.sort(prime_tensor, direction = \"DESCENDING\")\n",
    "print(\"prime tensor sorted dengan descending order:\",sorted_prime.numpy())\n"
   ]
  }
 ],
 "metadata": {
  "kernelspec": {
   "display_name": "Python 3 (ipykernel)",
   "language": "python",
   "name": "python3"
  },
  "language_info": {
   "codemirror_mode": {
    "name": "ipython",
    "version": 3
   },
   "file_extension": ".py",
   "mimetype": "text/x-python",
   "name": "python",
   "nbconvert_exporter": "python",
   "pygments_lexer": "ipython3",
   "version": "3.10.7"
  }
 },
 "nbformat": 4,
 "nbformat_minor": 5
}
